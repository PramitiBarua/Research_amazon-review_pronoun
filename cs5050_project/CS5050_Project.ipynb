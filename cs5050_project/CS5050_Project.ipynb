{
 "cells": [
  {
   "cell_type": "code",
   "execution_count": null,
   "id": "fef8f88e-858d-4732-9c04-b053875a0b40",
   "metadata": {},
   "outputs": [],
   "source": [
    "import pandas as pd\n",
    "import nltk.classify.naivebayes as nb\n",
    "import nltk.tokenize as tk\n",
    "from nltk.corpus import stopwords\n",
    "from nltk.corpus.reader.framenet import PrettyList\n"
   ]
  },
  {
   "cell_type": "code",
   "execution_count": null,
   "id": "2eb028f8-2adf-4fc5-bd5d-4a3aac7f02a5",
   "metadata": {},
   "outputs": [],
   "source": [
    "ar = pd.read_csv(\"Amazon_Consumer_Reviews_of_Amazon_Products.csv\")\n",
    "ar"
   ]
  },
  {
   "cell_type": "code",
   "execution_count": null,
   "id": "f171febf-78c7-47f2-b916-1b3858f9eb24",
   "metadata": {},
   "outputs": [],
   "source": []
  },
  {
   "cell_type": "code",
   "execution_count": null,
   "id": "41956a62-2cdf-46e3-aaa6-b5fd58834ab4",
   "metadata": {},
   "outputs": [],
   "source": [
    "stop = stopwords.words('english')"
   ]
  },
  {
   "cell_type": "code",
   "execution_count": null,
   "id": "06e2692e-d429-47aa-9581-f4756830d687",
   "metadata": {},
   "outputs": [],
   "source": [
    "new_stop = [\"i\",\"you\",\"he\",\"she\",\"it\",\"we\",\"they\",\"them\",\"us\",\"him\", \"me\", \"her\"]\n",
    "stop_no_pro = []\n",
    "for word in stop:\n",
    "    if word in new_stop:\n",
    "        continue \n",
    "    else:\n",
    "        stop_no_pro.append(word)"
   ]
  },
  {
   "cell_type": "code",
   "execution_count": null,
   "id": "5205df18-ae8e-470a-a7e4-69e390e8142b",
   "metadata": {},
   "outputs": [],
   "source": [
    "stop"
   ]
  },
  {
   "cell_type": "code",
   "execution_count": null,
   "id": "fd116c37-c286-420b-9a64-0e5e93695c5d",
   "metadata": {},
   "outputs": [],
   "source": []
  },
  {
   "cell_type": "code",
   "execution_count": null,
   "id": "bb473e35-a86a-458c-a56c-72762edab5fb",
   "metadata": {},
   "outputs": [],
   "source": []
  },
  {
   "cell_type": "code",
   "execution_count": null,
   "id": "7baedb9c-a0b8-4bab-8def-c5b4f174bc17",
   "metadata": {},
   "outputs": [],
   "source": [
    "for review in ar['reviews.text']:\n",
    "    for word in review:\n",
    "        word.lower()"
   ]
  },
  {
   "cell_type": "code",
   "execution_count": null,
   "id": "394fa423-c99a-43b1-8091-8450db90fa6a",
   "metadata": {},
   "outputs": [],
   "source": [
    "ar"
   ]
  },
  {
   "cell_type": "code",
   "execution_count": null,
   "id": "78c12530-89ab-4534-bfda-ad07e9acec23",
   "metadata": {},
   "outputs": [],
   "source": [
    "#create list of reviews without pronouns\n",
    "\n",
    "review_list_reg = []\n",
    "for review in ar['reviews.text']:\n",
    "    list_A = []\n",
    "    list_A = tk.word_tokenize(review)\n",
    "    list_A = [word for word in list_A if not word.lower() in stop]\n",
    "    \n",
    "    review_list_reg.append(list_A.copy())\n",
    "    \n",
    "    list_A.clear()\n",
    "    "
   ]
  },
  {
   "cell_type": "code",
   "execution_count": null,
   "id": "59a98c72-0cac-4f17-997b-c866fd84d38f",
   "metadata": {},
   "outputs": [],
   "source": [
    "review_list_reg[0]"
   ]
  },
  {
   "cell_type": "code",
   "execution_count": null,
   "id": "e3b3aba7-59f3-4b0c-84f8-ecd0de10ea6c",
   "metadata": {},
   "outputs": [],
   "source": [
    "#Create list of reviews with pronounds\n",
    "\n",
    "review_list_pro = []\n",
    "for review in ar['reviews.text']:\n",
    "    list_B = [] #temporary list for reading in reviews\n",
    "    list_B = tk.word_tokenize(review)\n",
    "    list_B = [word for word in list_B if not word.lower() in stop_no_pro]\n",
    "    \n",
    "    review_list_pro.append(list_B.copy())\n",
    "    \n",
    "    list_B.clear()"
   ]
  },
  {
   "cell_type": "code",
   "execution_count": null,
   "id": "bcbe7600-fbb6-4a7b-a87e-368bc754dc3e",
   "metadata": {},
   "outputs": [],
   "source": [
    "review_list_stop[0]"
   ]
  },
  {
   "cell_type": "code",
   "execution_count": null,
   "id": "7652bfa0-a818-4182-b136-1d22bf229012",
   "metadata": {},
   "outputs": [],
   "source": [
    "# templist = []\n",
    "# review_list_stop = []\n",
    "# i = 0\n",
    "# for review in ar['reviews.text']:\n",
    "#     for word in review:\n",
    "#         if word not in stop:\n",
    "#             templist.append(word)\n",
    "            \n",
    "#     review_list_stop.append(templist[i])\n",
    "#     i += 1\n",
    "\n",
    "    "
   ]
  },
  {
   "cell_type": "code",
   "execution_count": null,
   "id": "afc11014-4200-4722-bc52-5663fe317ef5",
   "metadata": {},
   "outputs": [],
   "source": []
  },
  {
   "cell_type": "code",
   "execution_count": null,
   "id": "099674fd-a871-46ae-838c-964929d13360",
   "metadata": {},
   "outputs": [],
   "source": [
    "# review_list_stop = []\n",
    "# for review in ar['reviews.text']:\n",
    "#     filter_sent = token for token in review if token not in stop\n",
    "#     review_list_stop.append(filter_sent)\n"
   ]
  },
  {
   "cell_type": "code",
   "execution_count": null,
   "id": "102098b7-a311-45ae-a10a-653d682361af",
   "metadata": {},
   "outputs": [],
   "source": []
  },
  {
   "cell_type": "code",
   "execution_count": null,
   "id": "dc12cd4d-11b0-47fc-9ea6-4c51eb090983",
   "metadata": {},
   "outputs": [],
   "source": [
    "\n",
    "review_list= []\n",
    "#Preprocessing\n",
    "#Stopwords\n",
    "#stop = stopwords.words('english')\n",
    "#ar\n",
    "i = 0;\n",
    "for review in ar['reviews.text']:\n",
    "    \n",
    "    review_list.append(tk.word_tokenize(review.lower()))\n",
    "    #print(\"+++++++++++++++++++++++++++++++++++++++++++++++++++++++\")\n",
    "    #print(review_list[i])\n",
    "    i += 1\n",
    "    #print(tk.sent_tokenize(review))\n",
    "    #print(f\"index is {i}\")\n",
    "    #i += 1\n",
    "    #token\n",
    "stop = stopwords.words('english')\n",
    "\n"
   ]
  },
  {
   "cell_type": "code",
   "execution_count": null,
   "id": "beb20563-6d87-4006-bb1a-bd9566310737",
   "metadata": {},
   "outputs": [],
   "source": [
    "#for review in review_list:\n",
    "#        for word in review:\n",
    "#            if(word.isupper()):\n",
    "#                #word.tolower()\n",
    "#                print(word)\n",
    "\n",
    "rating_list = []\n",
    "for rating in ar['reviews.rating']: \n",
    "    rating_list.append(rating)\n"
   ]
  },
  {
   "cell_type": "code",
   "execution_count": null,
   "id": "28aa27b8-c865-47f5-be62-8d7ddd02749f",
   "metadata": {},
   "outputs": [],
   "source": [
    "#now we have review_list and rating_list with index of respective ratings\n",
    "\n",
    "#print(review_list[10])"
   ]
  },
  {
   "cell_type": "code",
   "execution_count": null,
   "id": "d7bc58e9-f4e2-4636-a846-9692a881b81b",
   "metadata": {},
   "outputs": [],
   "source": []
  },
  {
   "cell_type": "code",
   "execution_count": null,
   "id": "af2d9673-6595-4157-9d4b-7b87127f265a",
   "metadata": {},
   "outputs": [],
   "source": [
    "for word in review_list[10]:\n",
    "    if word not in stop:\n",
    "        print(word)"
   ]
  },
  {
   "cell_type": "code",
   "execution_count": null,
   "id": "c529508b-d040-4139-a7e5-54e3a7d55f1b",
   "metadata": {},
   "outputs": [],
   "source": [
    "new_stop = [\"i\",\"you\",\"he\",\"she\",\"it\",\"we\",\"they\",\"them\",\"us\",\"him\", \"me\", \"her\"]\n",
    "stop_no_pro = []\n",
    "for word in stop:\n",
    "    if word in new_stop:\n",
    "        continue \n",
    "    else:\n",
    "        stop_no_pro.append(word)"
   ]
  },
  {
   "cell_type": "code",
   "execution_count": null,
   "id": "9c47b894-3364-4804-952b-8198ef79f14e",
   "metadata": {},
   "outputs": [],
   "source": [
    "stop_no_pro"
   ]
  },
  {
   "cell_type": "code",
   "execution_count": null,
   "id": "aa776367-5520-4a7f-87ea-6f04a01e22bd",
   "metadata": {},
   "outputs": [],
   "source": [
    "listlen = len(review_list)\n",
    "review_dic_stop = {}\n",
    "\n",
    "for x in range(listlen):\n",
    "    review_dic_stop[x] = { 'review' : review_list[x], 'rating' : rating_list[x]}\n",
    "print(listlen)\n",
    "# for x in listlen:\n",
    "#     review_dic_stop{x:[0],'score':[0]}\n",
    "\n",
    "#dicts = {}\n",
    "\n",
    "#values = [\"Hi\", \"I\", \"am\", \"John\"]\n",
    "# for x in range(listlen) - 1:\n",
    "#     review_dic_stop[i] = review_list[i]\n",
    "#print(dicts)\n"
   ]
  },
  {
   "cell_type": "code",
   "execution_count": null,
   "id": "8f6705f0-1c92-44d9-8335-b0b78c70d8a1",
   "metadata": {},
   "outputs": [],
   "source": [
    "review_dic_stop[10]['rating']"
   ]
  },
  {
   "cell_type": "code",
   "execution_count": null,
   "id": "85165a6d-6c48-4f59-81f3-9fff5e9696fe",
   "metadata": {},
   "outputs": [],
   "source": [
    "review_dic_stop[0]"
   ]
  },
  {
   "cell_type": "code",
   "execution_count": null,
   "id": "637e023e-0755-49ce-a3d9-af9398e66a0e",
   "metadata": {},
   "outputs": [],
   "source": [
    "# listlen = len(review_list)\n",
    "# review_dic_stop = {}\n",
    "\n",
    "# for x in range(listlen):\n",
    "#     review_dic_stop[x] = { 'review' : review_list[x], 'rating' : rating_list[x]}\n",
    "# print(listlen)\n",
    "\n",
    "#i = 0\n",
    "templist = []\n",
    "for review in review_list:\n",
    "    for word in review:\n",
    "        if word not in stop:\n",
    "            print(word)\n",
    "\n",
    "            "
   ]
  },
  {
   "cell_type": "code",
   "execution_count": null,
   "id": "f1ed02f0-3de0-475b-8eac-b65e2dbc9c6a",
   "metadata": {},
   "outputs": [],
   "source": [
    "review_list_stop[0]\n"
   ]
  },
  {
   "cell_type": "code",
   "execution_count": null,
   "id": "e7d2ba9c-cedd-4eea-b169-69949655d418",
   "metadata": {},
   "outputs": [],
   "source": []
  }
 ],
 "metadata": {
  "kernelspec": {
   "display_name": "Python 3",
   "language": "python",
   "name": "python3"
  },
  "language_info": {
   "codemirror_mode": {
    "name": "ipython",
    "version": 3
   },
   "file_extension": ".py",
   "mimetype": "text/x-python",
   "name": "python",
   "nbconvert_exporter": "python",
   "pygments_lexer": "ipython3",
   "version": "3.7.9"
  }
 },
 "nbformat": 4,
 "nbformat_minor": 5
}
