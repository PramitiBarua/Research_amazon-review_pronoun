{
 "cells": [
  {
   "cell_type": "code",
   "execution_count": 1,
   "id": "af128d62-0082-478c-ab05-24b737802802",
   "metadata": {},
   "outputs": [],
   "source": [
    "\n",
    "import pandas as pd\n",
    "import re\n",
    "import nltk\n",
    "import numpy as np\n",
    "from nltk.tokenize import RegexpTokenizer\n",
    "from nltk.corpus import stopwords\n",
    "from nltk.corpus import sentiwordnet as swn\n",
    "from sklearn.model_selection import train_test_split\n",
    "#from sklearn.naive_bayes import GaussianNB\n",
    "from sklearn.naive_bayes import MultinomialNB\n",
    "from sklearn.metrics import accuracy_score,classification_report\n",
    "from sklearn.feature_extraction.text import CountVectorizer\n"
   ]
  },
  {
   "cell_type": "code",
   "execution_count": 2,
   "id": "4e1033b2-399c-44d3-9d00-7bdce5d0badf",
   "metadata": {},
   "outputs": [
    {
     "name": "stderr",
     "output_type": "stream",
     "text": [
      "[nltk_data] Downloading package wordnet to\n",
      "[nltk_data]     C:\\Users\\JoeKa\\AppData\\Roaming\\nltk_data...\n",
      "[nltk_data]   Package wordnet is already up-to-date!\n"
     ]
    }
   ],
   "source": [
    "nltk.download('wordnet')\n",
    "ar = pd.read_csv(\"Amazon_Consumer_Reviews_of_Amazon_Products.csv\")"
   ]
  },
  {
   "cell_type": "code",
   "execution_count": 3,
   "id": "f879a0f0-d1b8-43f8-8d61-e95a686c23fd",
   "metadata": {},
   "outputs": [
    {
     "name": "stderr",
     "output_type": "stream",
     "text": [
      "[nltk_data] Downloading package sentiwordnet to\n",
      "[nltk_data]     C:\\Users\\JoeKa\\AppData\\Roaming\\nltk_data...\n",
      "[nltk_data]   Package sentiwordnet is already up-to-date!\n"
     ]
    },
    {
     "data": {
      "text/plain": [
       "True"
      ]
     },
     "execution_count": 3,
     "metadata": {},
     "output_type": "execute_result"
    }
   ],
   "source": [
    "nltk.download('sentiwordnet')"
   ]
  },
  {
   "cell_type": "code",
   "execution_count": 4,
   "id": "f0a602c6-451f-4a7e-988d-710025bc867b",
   "metadata": {},
   "outputs": [
    {
     "name": "stderr",
     "output_type": "stream",
     "text": [
      "[nltk_data] Downloading package averaged_perceptron_tagger to\n",
      "[nltk_data]     C:\\Users\\JoeKa\\AppData\\Roaming\\nltk_data...\n",
      "[nltk_data]   Package averaged_perceptron_tagger is already up-to-\n",
      "[nltk_data]       date!\n"
     ]
    },
    {
     "data": {
      "text/plain": [
       "True"
      ]
     },
     "execution_count": 4,
     "metadata": {},
     "output_type": "execute_result"
    }
   ],
   "source": [
    "nltk.download('averaged_perceptron_tagger')"
   ]
  },
  {
   "cell_type": "code",
   "execution_count": 5,
   "id": "61f9aef3-6188-43ed-804f-304072d646c8",
   "metadata": {},
   "outputs": [
    {
     "name": "stderr",
     "output_type": "stream",
     "text": [
      "[nltk_data] Downloading package punkt to\n",
      "[nltk_data]     C:\\Users\\JoeKa\\AppData\\Roaming\\nltk_data...\n",
      "[nltk_data]   Package punkt is already up-to-date!\n"
     ]
    },
    {
     "data": {
      "text/plain": [
       "True"
      ]
     },
     "execution_count": 5,
     "metadata": {},
     "output_type": "execute_result"
    }
   ],
   "source": [
    "nltk.download('punkt')"
   ]
  },
  {
   "cell_type": "code",
   "execution_count": 6,
   "id": "16ae8df2-cfec-45b0-afc9-6860390e8ac1",
   "metadata": {},
   "outputs": [],
   "source": [
    "#tokenizer = RegexpTokenizer(r'\\w+')\n",
    "#stop = stopwords.words('english')\n",
    "#stop = tokenizer.tokenize(stop)\n",
    "#swn\n",
    "stop = stopwords.words('english')"
   ]
  },
  {
   "cell_type": "code",
   "execution_count": 7,
   "id": "44f3ab72-1f15-4e80-85f7-172cfb330394",
   "metadata": {},
   "outputs": [],
   "source": [
    "# review_list_reg = []\n",
    "# for review in ar['reviews.text']:\n",
    "#     review_list_reg.append(tokenizer.tokenize(review))\n",
    "\n",
    "review_list_reg = []\n",
    "for review in ar['reviews.text']:\n",
    "     review_list_reg.append(review)"
   ]
  },
  {
   "cell_type": "code",
   "execution_count": 8,
   "id": "d55ae500-813e-4f63-8d7e-7500e7f0d490",
   "metadata": {},
   "outputs": [],
   "source": [
    "def senti_calc(word, tag):\n",
    "    pos_score = 0\n",
    "    neg_score = 0\n",
    "    \n",
    "    if 'NN' in tag and len(list(swn.senti_synsets(word, 'n')))>0:\n",
    "        syn_set = list(swn.senti_synsets(word, 'n'))\n",
    "    elif 'VB' in tag and len(list(swn.senti_synsets(word, 'v')))>0:\n",
    "        syn_set = list(swn.senti_synsets(word, 'v'))\n",
    "    elif 'JJ' in tag and len(list(swn.senti_synsets(word, 'a')))>0:\n",
    "        syn_set = list(swn.senti_synsets(word, 'a'))\n",
    "    elif 'RB' in tag and len(list(swn.senti_synsets(word, 'r')))>0:\n",
    "        syn_set = list(swn.senti_synsets(word, 'r'))\n",
    "    else:\n",
    "        return (0,0)\n",
    "    \n",
    "    for syn in syn_set:\n",
    "        pos_score += syn.pos_score()\n",
    "        neg_score += syn.neg_score()\n",
    "    return (pos_score/len(syn_set), neg_score/len(syn_set))\n",
    "\n",
    "\n"
   ]
  },
  {
   "cell_type": "code",
   "execution_count": 9,
   "id": "54916d20-a0fe-46bc-8029-2d0aded36e60",
   "metadata": {},
   "outputs": [],
   "source": [
    "#list = nltk.word_tokenize(review_list_reg[0])"
   ]
  },
  {
   "cell_type": "code",
   "execution_count": 10,
   "id": "407445f3-6d99-408e-9373-ea6e0dac20c6",
   "metadata": {},
   "outputs": [],
   "source": [
    "#list"
   ]
  },
  {
   "cell_type": "code",
   "execution_count": 11,
   "id": "3b10226f-e07d-4865-bcc4-9d3cbb7c76ed",
   "metadata": {},
   "outputs": [],
   "source": [
    "pos_senti_score = []\n",
    "neg_senti_score = []\n",
    "for review in review_list_reg:\n",
    "    #no_punct = tokenizer.tokenize(review)\n",
    "    tokens = nltk.word_tokenize(review)\n",
    "    tags = nltk.pos_tag(tokens)\n",
    "    length = len(tags)\n",
    "    pos_score = 0\n",
    "    neg_score = 0\n",
    "    for word,tag in tags:\n",
    "        pos_score += senti_calc(word,tag)[0]\n",
    "        neg_score += senti_calc(word,tag)[1]\n",
    "    pos_senti_score.append(pos_score/length)\n",
    "    neg_senti_score.append(neg_score/length)\n",
    "\n"
   ]
  },
  {
   "cell_type": "code",
   "execution_count": 12,
   "id": "eedca7c8-85a4-4771-9497-c1f033d56a3c",
   "metadata": {},
   "outputs": [],
   "source": [
    "#print(pos_senti_score[0])\n",
    "#print(neg_senti_score[0])"
   ]
  },
  {
   "cell_type": "code",
   "execution_count": 13,
   "id": "7dd37b59-cd59-497f-9ef4-02d1d7c1e4c9",
   "metadata": {},
   "outputs": [],
   "source": [
    "review_rating = []\n",
    "for rating in ar['reviews.rating']:\n",
    "     review_rating.append(rating)"
   ]
  },
  {
   "cell_type": "code",
   "execution_count": 14,
   "id": "4af3df2e-8061-4468-805e-ace751190c2e",
   "metadata": {},
   "outputs": [],
   "source": [
    "\n",
    "\n",
    "#classifier = GaussianNB()\n",
    "classifier = MultinomialNB()\n"
   ]
  },
  {
   "cell_type": "code",
   "execution_count": 15,
   "id": "7cdd9d6c-5556-409a-b5a4-711100b25a4c",
   "metadata": {},
   "outputs": [],
   "source": [
    "vectorizer = CountVectorizer(stop_words = stop)\n",
    "X = vectorizer.fit_transform(review_list_reg)"
   ]
  },
  {
   "cell_type": "code",
   "execution_count": 16,
   "id": "78d81ec5-0d99-4aca-a6b5-070bf8a24e99",
   "metadata": {},
   "outputs": [
    {
     "data": {
      "text/plain": [
       "(5000, 5275)"
      ]
     },
     "execution_count": 16,
     "metadata": {},
     "output_type": "execute_result"
    }
   ],
   "source": [
    "#vectorizer.get_feature_names_ou\n",
    "X.shape"
   ]
  },
  {
   "cell_type": "code",
   "execution_count": 17,
   "id": "42111b2c-080c-415d-bcd0-4d646333c2e4",
   "metadata": {},
   "outputs": [],
   "source": [
    "#X?"
   ]
  },
  {
   "cell_type": "code",
   "execution_count": 18,
   "id": "97a5dea1-9d12-42c1-93d2-af88a67c11ea",
   "metadata": {},
   "outputs": [],
   "source": [
    "#for x in range(len(pos_senti_score)):\n",
    "#    np.append(X,pos_senti_score[x],neg_senti_score[\n",
    "#np.append(X, pos_senti_score, neg_senti_score)\n",
    "matrix = X.toarray()"
   ]
  },
  {
   "cell_type": "code",
   "execution_count": 19,
   "id": "a22ad7d5-9262-4beb-8fe1-01ead59ff09d",
   "metadata": {},
   "outputs": [
    {
     "data": {
      "text/plain": [
       "0.03933974358974359"
      ]
     },
     "execution_count": 19,
     "metadata": {},
     "output_type": "execute_result"
    }
   ],
   "source": [
    "pos_senti_score[1]"
   ]
  },
  {
   "cell_type": "code",
   "execution_count": 20,
   "id": "38832f60-a861-4b1d-9b5a-9aacdbbbb190",
   "metadata": {},
   "outputs": [],
   "source": [
    "length = len(pos_senti_score)\n",
    "for x in range(length):\n",
    "    pos_senti_score[x] = int(pos_senti_score[x] * 100)"
   ]
  },
  {
   "cell_type": "code",
   "execution_count": 21,
   "id": "493a27d8-5d69-4aa9-8c14-be41a18390b7",
   "metadata": {},
   "outputs": [
    {
     "data": {
      "text/plain": [
       "4"
      ]
     },
     "execution_count": 21,
     "metadata": {},
     "output_type": "execute_result"
    }
   ],
   "source": [
    "pos_senti_score[0]"
   ]
  },
  {
   "cell_type": "code",
   "execution_count": 22,
   "id": "a3039fc2-3fcb-45c1-89c2-857cfcc6b37d",
   "metadata": {},
   "outputs": [],
   "source": [
    "length = len(neg_senti_score)\n",
    "for x in range(length):\n",
    "    neg_senti_score[x] = int(neg_senti_score[x] * 100)"
   ]
  },
  {
   "cell_type": "code",
   "execution_count": 23,
   "id": "e636b6b6-8a6a-4ec6-88f7-f57928d56d77",
   "metadata": {},
   "outputs": [
    {
     "data": {
      "text/plain": [
       "5"
      ]
     },
     "execution_count": 23,
     "metadata": {},
     "output_type": "execute_result"
    }
   ],
   "source": [
    "neg_senti_score[0]"
   ]
  },
  {
   "cell_type": "code",
   "execution_count": 24,
   "id": "c95fd698-5e76-43ce-b9bb-b78a8014054e",
   "metadata": {},
   "outputs": [],
   "source": [
    "#matrix?"
   ]
  },
  {
   "cell_type": "code",
   "execution_count": 25,
   "id": "39a643f2-e90c-4db0-bed1-b177bdc3b9c0",
   "metadata": {},
   "outputs": [],
   "source": [
    "#sample_arr = np.concatenate((neg_senti_score, pos_senti_score), axis = 0)"
   ]
  },
  {
   "cell_type": "code",
   "execution_count": 26,
   "id": "9cecba14-ad06-44d1-a6bf-5197284145a6",
   "metadata": {},
   "outputs": [],
   "source": [
    "#np.hstack((matrix,neg_senti_score))"
   ]
  },
  {
   "cell_type": "code",
   "execution_count": 27,
   "id": "a34064ba-dff9-4c7a-89de-afe204d892cc",
   "metadata": {},
   "outputs": [],
   "source": [
    "matrix2 = np.c_[matrix,neg_senti_score]"
   ]
  },
  {
   "cell_type": "code",
   "execution_count": 28,
   "id": "11058ace-06d7-4dca-b1fd-9d624c2ee6d3",
   "metadata": {},
   "outputs": [],
   "source": [
    "matrix_f = np.c_[matrix2,pos_senti_score]"
   ]
  },
  {
   "cell_type": "code",
   "execution_count": 29,
   "id": "af78bcd0-d916-49c9-946c-6fb6ba906237",
   "metadata": {},
   "outputs": [
    {
     "data": {
      "text/plain": [
       "(5000, 5277)"
      ]
     },
     "execution_count": 29,
     "metadata": {},
     "output_type": "execute_result"
    }
   ],
   "source": [
    "matrix_f.shape\n"
   ]
  },
  {
   "cell_type": "code",
   "execution_count": 44,
   "id": "8f3fcd5d-e25c-4217-a392-1e8e3d6c29ad",
   "metadata": {},
   "outputs": [
    {
     "data": {
      "text/plain": [
       "2"
      ]
     },
     "execution_count": 44,
     "metadata": {},
     "output_type": "execute_result"
    }
   ],
   "source": [
    "matrix_f[4999][5276]"
   ]
  },
  {
   "cell_type": "code",
   "execution_count": 30,
   "id": "aa1ce813-7ba9-45fe-8c05-46b96b761d57",
   "metadata": {},
   "outputs": [],
   "source": [
    "#vectorizer.get_params(deep=True)\n",
    "#Y = vectorizer.inverse_transform(X)"
   ]
  },
  {
   "cell_type": "code",
   "execution_count": 31,
   "id": "8127bcc6-1cff-46dd-8eba-da111946ed12",
   "metadata": {},
   "outputs": [],
   "source": [
    "X_train, X_test, y_train, y_test = train_test_split(matrix_f, review_rating)\n",
    "\n",
    "#X_train, X_test, y_train, y_test = train_test_split(X.toarray(), review_rating)"
   ]
  },
  {
   "cell_type": "code",
   "execution_count": 32,
   "id": "acfa9ee6-f669-4796-9278-70f975429309",
   "metadata": {},
   "outputs": [
    {
     "data": {
      "text/plain": [
       "MultinomialNB()"
      ]
     },
     "execution_count": 32,
     "metadata": {},
     "output_type": "execute_result"
    }
   ],
   "source": [
    "classifier.fit(X_train, y_train)"
   ]
  },
  {
   "cell_type": "code",
   "execution_count": 33,
   "id": "77e051be-a927-4c2e-93b3-622beb647854",
   "metadata": {},
   "outputs": [],
   "source": [
    "y_pred = classifier.predict(X_test)"
   ]
  },
  {
   "cell_type": "code",
   "execution_count": 34,
   "id": "3e976799-bc4d-4067-8cb6-20101fc75772",
   "metadata": {},
   "outputs": [],
   "source": [
    "accuracy = accuracy_score(y_test,y_pred)"
   ]
  },
  {
   "cell_type": "code",
   "execution_count": 35,
   "id": "84f750a7-f237-41ff-bbeb-c3f16740437c",
   "metadata": {},
   "outputs": [
    {
     "data": {
      "text/plain": [
       "0.7192"
      ]
     },
     "execution_count": 35,
     "metadata": {},
     "output_type": "execute_result"
    }
   ],
   "source": [
    "accuracy"
   ]
  },
  {
   "cell_type": "code",
   "execution_count": 36,
   "id": "8a4c7909-3a8f-41d9-be83-70f0aea339fc",
   "metadata": {},
   "outputs": [],
   "source": [
    "#from sklearn.metrics import accuracy_score,classification_report\n",
    "#classifier.metrics()"
   ]
  },
  {
   "cell_type": "code",
   "execution_count": 37,
   "id": "d928648b-6183-44fc-b343-d1925da9a4ea",
   "metadata": {},
   "outputs": [
    {
     "name": "stderr",
     "output_type": "stream",
     "text": [
      "C:\\Users\\JoeKa\\anaconda3\\envs\\cs5050\\lib\\site-packages\\sklearn\\metrics\\_classification.py:1221: UndefinedMetricWarning: Precision and F-score are ill-defined and being set to 0.0 in labels with no predicted samples. Use `zero_division` parameter to control this behavior.\n",
      "  _warn_prf(average, modifier, msg_start, len(result))\n"
     ]
    }
   ],
   "source": [
    "report = classification_report(y_test,y_pred)"
   ]
  },
  {
   "cell_type": "code",
   "execution_count": 38,
   "id": "062844f2-41dd-4c8a-8bb8-725874cdc201",
   "metadata": {},
   "outputs": [
    {
     "name": "stdout",
     "output_type": "stream",
     "text": [
      "              precision    recall  f1-score   support\n",
      "\n",
      "           1       1.00      0.12      0.21        17\n",
      "           2       0.00      0.00      0.00        14\n",
      "           3       0.50      0.07      0.12        42\n",
      "           4       0.47      0.30      0.37       302\n",
      "           5       0.77      0.92      0.83       875\n",
      "\n",
      "    accuracy                           0.72      1250\n",
      "   macro avg       0.55      0.28      0.31      1250\n",
      "weighted avg       0.68      0.72      0.68      1250\n",
      "\n"
     ]
    }
   ],
   "source": [
    "print(report)"
   ]
  },
  {
   "cell_type": "code",
   "execution_count": 55,
   "id": "4f3ea064-e288-4363-9d18-27b172f71983",
   "metadata": {},
   "outputs": [],
   "source": [
    "onestar_class_prob_sorted = classifier.feature_log_prob_[0, :].argsort()[::-1]\n",
    "twostar_class_prob_sorted = classifier.feature_log_prob_[1, :].argsort()[::-1]\n",
    "threestar_class_prob_sorted = classifier.feature_log_prob_[2, :].argsort()[::-1]\n",
    "fourstar_class_prob_sorted = classifier.feature_log_prob_[3, :].argsort()[::-1]\n",
    "fivestar_class_prob_sorted = classifier.feature_log_prob_[4, :].argsort()[::-1]\n",
    "\n"
   ]
  },
  {
   "cell_type": "code",
   "execution_count": 56,
   "id": "d3de2805-1bee-4c51-9457-b28fe70782a0",
   "metadata": {},
   "outputs": [
    {
     "name": "stdout",
     "output_type": "stream",
     "text": [
      "['amazon' 'bought' 'kindle' 'one' 'week' 'use' 'work' 'tablet']\n",
      "['use' 'amazon' 'tablet' 'work' 'device' 'bought' 'would' 'apps']\n",
      "['tablet' 'good' 'great' 'amazon' 'would' 'kids' 'one' 'apps']\n",
      "['tablet' 'great' 'use' 'good' 'like' 'amazon' 'easy' 'kindle']\n",
      "['great' 'love' 'tablet' 'use' 'easy' 'bought' 'echo' 'kindle']\n"
     ]
    }
   ],
   "source": [
    "print(np.take(vectorizer.get_feature_names(), onestar_class_prob_sorted[2:10]))\n",
    "print(np.take(vectorizer.get_feature_names(), twostar_class_prob_sorted[2:10]))\n",
    "print(np.take(vectorizer.get_feature_names(), threestar_class_prob_sorted[2:10]))\n",
    "print(np.take(vectorizer.get_feature_names(), fourstar_class_prob_sorted[2:10]))\n",
    "print(np.take(vectorizer.get_feature_names(), fivestar_class_prob_sorted[2:10]))"
   ]
  },
  {
   "cell_type": "markdown",
   "id": "4f4430be-cb5e-43f8-acef-220fe31564e3",
   "metadata": {},
   "source": [
    "print(onestar_class_prob_sorted[0:10])\n",
    "print(twostar_class_prob_sorted[2:10])\n",
    "print(threestar_class_prob_sorted[2:10])\n",
    "print(fourstar_class_prob_sorted[2:10])\n",
    "print(fivestar_class_prob_sorted[2:10]))"
   ]
  },
  {
   "cell_type": "code",
   "execution_count": 58,
   "id": "90a50684-0c27-4bed-86ee-f76d46ce4921",
   "metadata": {},
   "outputs": [
    {
     "name": "stdout",
     "output_type": "stream",
     "text": [
      "[5275 5276  316  674 2601 3186 5097 4946 5174 4569]\n",
      "[5275 5276 4946  316 4569 5174 1332  674 5197  394]\n",
      "[5276 5275 4569 2082 2132  316 5197 2591 3186  394]\n",
      "[5276 5275 4569 2132 4946 2082 2726  316 1531 2601]\n",
      "[5276 5275 2132 2814 4569 4946 1531  674 1541 2601]\n"
     ]
    }
   ],
   "source": [
    "print(onestar_class_prob_sorted[0:10])\n",
    "print(twostar_class_prob_sorted[0:10]) \n",
    "print(threestar_class_prob_sorted[0:10]) \n",
    "print(fourstar_class_prob_sorted[0:10]) \n",
    "print(fivestar_class_prob_sorted[0:10])\n"
   ]
  },
  {
   "cell_type": "code",
   "execution_count": 61,
   "id": "310dae4c-4209-4000-97d5-e1699fc30ad0",
   "metadata": {},
   "outputs": [
    {
     "name": "stdout",
     "output_type": "stream",
     "text": [
      "['amazon' 'bought' 'kindle' 'one' 'week' 'use' 'work' 'tablet' 'last'\n",
      " 'junk' 'get' 'apps' 'buy' 'show' 'first' 'back' 'would' 'useless'\n",
      " 'device' 'year' 'years' 'purchased' 'product' 'used' 'could' 'less'\n",
      " 'best' 'constantly' 'video' 'going' 'problem' 'speakers' 'registered'\n",
      " 'quality' 'fire' 'lasted' 'cloudcam' 'shuts' 'model' 'days' 'charge'\n",
      " 'tried' 'great' 'also' 'help' 'like' 'echo' 'old']\n",
      "['use' 'amazon' 'tablet' 'work' 'device' 'bought' 'would' 'apps' 'buy'\n",
      " '20' 'returned' 'like' 'quality' 'one' 'nothing' 'ipad' 'time' 'code'\n",
      " 'better' 'kindle' 'works' 'still' 'generation' 'needs' 'minutes'\n",
      " 'program' 'ads' 'google' 'screen' 'could' 'every' 'charge' 'set' 'hard'\n",
      " 'phone' 'games' 'charger' 'slow' 'great' 'battery' 'another' 'connection'\n",
      " '12' 'randomly' 'friendly' 'say' 'netflix' 'getting']\n",
      "['tablet' 'good' 'great' 'amazon' 'would' 'kids' 'one' 'apps' 'screen'\n",
      " 'ok' 'time' 'echo' 'get' 'bought' 'use' 'works' 'price' 'alexa' 'still'\n",
      " 'work' 'like' 'books' 'store' 'device' 'ipad' 'old' 'kindle' 'reading'\n",
      " 'internet' 'download' 'google' 'show' 'play' 'first' 'back' 'could'\n",
      " 'also' 'better' 'games' 'slow' 'make' 'tablets' 'much' 'fine' 'buy'\n",
      " 'product' 'able' 'quality']\n",
      "['tablet' 'great' 'use' 'good' 'like' 'amazon' 'easy' 'kindle' 'bought'\n",
      " 'one' 'apps' 'screen' 'love' 'price' 'would' 'well' 'kids' 'device'\n",
      " 'alexa' 'works' 'echo' 'little' 'product' 'get' 'fire' 'play' 'old'\n",
      " 'games' 'better' 'also' 'books' 'music' 'much' 'purchased' 'year' 'time'\n",
      " 'really' 'read' 'gift' 'nice' 'loves' 'got' 'home' 'app' 'lot' 'sound'\n",
      " 'reading' 'new']\n",
      "['great' 'love' 'tablet' 'use' 'easy' 'bought' 'echo' 'kindle' 'one'\n",
      " 'amazon' 'loves' 'alexa' 'good' 'product' 'fire' 'music' 'old' 'like'\n",
      " 'price' 'screen' 'much' 'would' 'kids' 'show' 'books' 'read' 'best'\n",
      " 'games' 'really' 'year' 'well' 'get' 'works' 'set' 'purchased' 'gift'\n",
      " 'also' 'time' 'play' 'reading' 'device' 'new' 'got' 'apps' 'perfect'\n",
      " 'buy' 'home' 'sound']\n"
     ]
    }
   ],
   "source": [
    "print(np.take(vectorizer.get_feature_names(), onestar_class_prob_sorted[2:50]))\n",
    "print(np.take(vectorizer.get_feature_names(), twostar_class_prob_sorted[2:50]))\n",
    "print(np.take(vectorizer.get_feature_names(), threestar_class_prob_sorted[2:50]))\n",
    "print(np.take(vectorizer.get_feature_names(), fourstar_class_prob_sorted[2:50]))\n",
    "print(np.take(vectorizer.get_feature_names(), fivestar_class_prob_sorted[2:50]))\n"
   ]
  },
  {
   "cell_type": "code",
   "execution_count": 46,
   "id": "f17a7eeb-5a7a-4bf8-ab2a-201a96818bee",
   "metadata": {},
   "outputs": [
    {
     "data": {
      "text/plain": [
       "array([-8.84303772, -8.84303772, -8.14989054, ..., -8.84303772,\n",
       "       -3.75544139, -4.0723531 ])"
      ]
     },
     "execution_count": 46,
     "metadata": {},
     "output_type": "execute_result"
    }
   ],
   "source": [
    "#classifier.feature_log_prob_[0, :]"
   ]
  },
  {
   "cell_type": "code",
   "execution_count": 47,
   "id": "cb3c22f9-fd13-4fb6-8eda-111d9653ac06",
   "metadata": {},
   "outputs": [
    {
     "data": {
      "text/plain": [
       "array([-8.73552519, -8.73552519, -8.73552519, ..., -8.73552519,\n",
       "       -3.67293015, -4.0441773 ])"
      ]
     },
     "execution_count": 47,
     "metadata": {},
     "output_type": "execute_result"
    }
   ],
   "source": [
    "#classifier.feature_log_prob_[1, :]"
   ]
  },
  {
   "cell_type": "code",
   "execution_count": null,
   "id": "ad8940e6-cb59-4460-b2c5-e671d0d9191d",
   "metadata": {},
   "outputs": [],
   "source": []
  }
 ],
 "metadata": {
  "kernelspec": {
   "display_name": "Python 3",
   "language": "python",
   "name": "python3"
  },
  "language_info": {
   "codemirror_mode": {
    "name": "ipython",
    "version": 3
   },
   "file_extension": ".py",
   "mimetype": "text/x-python",
   "name": "python",
   "nbconvert_exporter": "python",
   "pygments_lexer": "ipython3",
   "version": "3.7.9"
  }
 },
 "nbformat": 4,
 "nbformat_minor": 5
}
