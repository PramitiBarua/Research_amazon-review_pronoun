{
 "cells": [
  {
   "cell_type": "code",
   "execution_count": 1,
   "id": "5a4df3c1-268f-450b-bad4-5ecbb6975a19",
   "metadata": {},
   "outputs": [],
   "source": [
    "#Joseph K Blankenship, Pramiti Barua, Jaswitha Ravala\n",
    "#CS 5050 Project: Sentiment Classification of Amazon Reviews with Hybrid Naive Bayes Approach"
   ]
  },
  {
   "cell_type": "code",
   "execution_count": 2,
   "id": "69d66b5d-7010-4f1f-832b-45d1017642e2",
   "metadata": {},
   "outputs": [],
   "source": [
    "\n",
    "import pandas as pd\n",
    "import re\n",
    "import nltk\n",
    "import numpy as np\n",
    "from nltk.tokenize import RegexpTokenizer\n",
    "from nltk.corpus import stopwords\n",
    "from nltk.corpus import sentiwordnet as swn\n",
    "from sklearn.model_selection import train_test_split\n",
    "#from sklearn.naive_bayes import GaussianNB\n",
    "from sklearn.naive_bayes import MultinomialNB\n",
    "from sklearn.metrics import accuracy_score,classification_report\n",
    "from sklearn.feature_extraction.text import CountVectorizer\n"
   ]
  },
  {
   "cell_type": "code",
   "execution_count": 3,
   "id": "c54d46b9-bd82-429a-85e7-d2a59a7be802",
   "metadata": {},
   "outputs": [
    {
     "name": "stderr",
     "output_type": "stream",
     "text": [
      "[nltk_data] Downloading package wordnet to\n",
      "[nltk_data]     C:\\Users\\JoeKa\\AppData\\Roaming\\nltk_data...\n",
      "[nltk_data]   Package wordnet is already up-to-date!\n"
     ]
    }
   ],
   "source": [
    "nltk.download('wordnet')\n",
    "ar = pd.read_csv(\"Amazon_Consumer_Reviews_of_Amazon_Products.csv\")"
   ]
  },
  {
   "cell_type": "code",
   "execution_count": 4,
   "id": "b12f1222-0802-44ac-b0fe-ae9a331b2f04",
   "metadata": {},
   "outputs": [],
   "source": [
    "#nltk.download('sentiwordnet')"
   ]
  },
  {
   "cell_type": "code",
   "execution_count": 5,
   "id": "616ca7a8-4a11-4351-987f-92e4140485e0",
   "metadata": {},
   "outputs": [],
   "source": [
    "#nltk.download('averaged_perceptron_tagger')"
   ]
  },
  {
   "cell_type": "code",
   "execution_count": 6,
   "id": "c611c57f-2460-4425-b1d8-e5f8954318ef",
   "metadata": {},
   "outputs": [],
   "source": [
    "#nltk.download('punkt')"
   ]
  },
  {
   "cell_type": "code",
   "execution_count": 7,
   "id": "ba74d89c-cffb-45fe-8c94-82736531a7de",
   "metadata": {},
   "outputs": [],
   "source": [
    "stop = stopwords.words('english')"
   ]
  },
  {
   "cell_type": "code",
   "execution_count": 8,
   "id": "96cdf049-55dd-4642-a310-8fb53759ef23",
   "metadata": {},
   "outputs": [],
   "source": [
    "new_stop = [\"i\",\"you\",\"he\",\"she\",\"it\",\"we\",\"they\",\"them\",\"us\",\"him\", \"me\", \"her\"]\n",
    "stop_no_pro = []\n",
    "for word in stop:\n",
    "    if word in new_stop:\n",
    "        continue \n",
    "    else:\n",
    "        stop_no_pro.append(word)"
   ]
  },
  {
   "cell_type": "code",
   "execution_count": 9,
   "id": "8133df77-c08b-448d-8eb8-434ab0cf5575",
   "metadata": {},
   "outputs": [],
   "source": [
    "#stop_no_pro = nltk.tokenize(stop_no_pro)"
   ]
  },
  {
   "cell_type": "code",
   "execution_count": 10,
   "id": "1757829e-8b22-4c6e-bc2e-0df05d22d2aa",
   "metadata": {},
   "outputs": [],
   "source": [
    "review_list_reg = []\n",
    "for review in ar['reviews.text']:\n",
    "     review_list_reg.append(review)"
   ]
  },
  {
   "cell_type": "code",
   "execution_count": 11,
   "id": "97ee889a-0ccd-4a46-809d-43fbc522a97d",
   "metadata": {},
   "outputs": [],
   "source": [
    "#This is function to generate the normalized senti-score for our reviews.\n",
    "\n",
    "def senti_calc(word, tag):\n",
    "    pos_score = 0\n",
    "    neg_score = 0\n",
    "    \n",
    "    if 'NN' in tag and len(list(swn.senti_synsets(word, 'n')))>0:\n",
    "        syn_set = list(swn.senti_synsets(word, 'n'))\n",
    "    elif 'VB' in tag and len(list(swn.senti_synsets(word, 'v')))>0:\n",
    "        syn_set = list(swn.senti_synsets(word, 'v'))\n",
    "    elif 'JJ' in tag and len(list(swn.senti_synsets(word, 'a')))>0:\n",
    "        syn_set = list(swn.senti_synsets(word, 'a'))\n",
    "    elif 'RB' in tag and len(list(swn.senti_synsets(word, 'r')))>0:\n",
    "        syn_set = list(swn.senti_synsets(word, 'r'))\n",
    "    elif 'PRP' in tag:\n",
    "        #neg_score += .5\n",
    "        pos_score += .5\n",
    "    else:\n",
    "        return (0,0)\n",
    "    \n",
    "    if ('PRP' in tag):\n",
    "        return (pos_score, neg_score)\n",
    "    else:\n",
    "        for syn in syn_set:\n",
    "            pos_score += syn.pos_score()\n",
    "            neg_score += syn.neg_score()\n",
    "        return (pos_score/len(syn_set), neg_score/len(syn_set))\n",
    "\n"
   ]
  },
  {
   "cell_type": "code",
   "execution_count": 12,
   "id": "c98edf77-234b-44bb-81f5-17cb3016425c",
   "metadata": {},
   "outputs": [],
   "source": [
    "pos_senti_score = []\n",
    "neg_senti_score = []\n",
    "for review in review_list_reg:\n",
    "    #no_punct = tokenizer.tokenize(review)\n",
    "    tokens = nltk.word_tokenize(review)\n",
    "    tags = nltk.pos_tag(tokens)\n",
    "    length = len(tags)\n",
    "    pos_score = 0\n",
    "    neg_score = 0\n",
    "    for word,tag in tags:\n",
    "        pos_score += senti_calc(word,tag)[0]\n",
    "        neg_score += senti_calc(word,tag)[1]\n",
    "    pos_senti_score.append(pos_score/length)\n",
    "    neg_senti_score.append(neg_score/length)\n"
   ]
  },
  {
   "cell_type": "code",
   "execution_count": 13,
   "id": "83bc8154-3cd8-450f-b829-d2d8336255d6",
   "metadata": {},
   "outputs": [],
   "source": [
    "review_rating = []\n",
    "for rating in ar['reviews.rating']:\n",
    "     review_rating.append(rating)"
   ]
  },
  {
   "cell_type": "code",
   "execution_count": 14,
   "id": "c69436b4-1ac2-4052-b54f-b312d436c65f",
   "metadata": {},
   "outputs": [],
   "source": [
    "classifier = MultinomialNB()"
   ]
  },
  {
   "cell_type": "code",
   "execution_count": 15,
   "id": "a8909c08-34bf-44e4-84d2-acd9f8a29055",
   "metadata": {},
   "outputs": [
    {
     "name": "stderr",
     "output_type": "stream",
     "text": [
      "C:\\Users\\JoeKa\\anaconda3\\envs\\cs5050\\lib\\site-packages\\sklearn\\feature_extraction\\text.py:386: UserWarning: Your stop_words may be inconsistent with your preprocessing. Tokenizing the stop words generated tokens ['it', 'she', 'you'] not in stop_words.\n",
      "  'stop_words.' % sorted(inconsistent))\n"
     ]
    }
   ],
   "source": [
    "vectorizer = CountVectorizer(stop_words = stop_no_pro)\n",
    "X = vectorizer.fit_transform(review_list_reg)"
   ]
  },
  {
   "cell_type": "code",
   "execution_count": 16,
   "id": "0c431eff-7a86-4710-9366-b84cc68f656d",
   "metadata": {},
   "outputs": [],
   "source": [
    "matrix = X.toarray()"
   ]
  },
  {
   "cell_type": "code",
   "execution_count": 17,
   "id": "9a915320-6531-486a-955b-76bbcf2d3cf5",
   "metadata": {},
   "outputs": [],
   "source": [
    "length = len(pos_senti_score)\n",
    "for x in range(length):\n",
    "    pos_senti_score[x] = int(pos_senti_score[x] * 100)"
   ]
  },
  {
   "cell_type": "code",
   "execution_count": 18,
   "id": "d578392a-4553-4960-adc6-df5af46c3526",
   "metadata": {},
   "outputs": [],
   "source": [
    "length = len(neg_senti_score)\n",
    "for x in range(length):\n",
    "    neg_senti_score[x] = int(neg_senti_score[x] * 100)"
   ]
  },
  {
   "cell_type": "code",
   "execution_count": 19,
   "id": "6e1067e1-6f2d-4337-b2b6-a7829e879776",
   "metadata": {},
   "outputs": [],
   "source": [
    "matrix2 = np.c_[matrix,neg_senti_score]"
   ]
  },
  {
   "cell_type": "code",
   "execution_count": 20,
   "id": "1d6e3f50-326f-46c0-af99-504ba9da04d4",
   "metadata": {},
   "outputs": [],
   "source": [
    "matrix_f = np.c_[matrix2,pos_senti_score]"
   ]
  },
  {
   "cell_type": "code",
   "execution_count": 21,
   "id": "a9cf5091-260e-445e-964f-9ac1042b489c",
   "metadata": {},
   "outputs": [],
   "source": [
    "X_train, X_test, y_train, y_test = train_test_split(matrix_f, review_rating)"
   ]
  },
  {
   "cell_type": "code",
   "execution_count": 22,
   "id": "edd16ef0-1bf7-4b4d-83df-fa40fd0e24f6",
   "metadata": {},
   "outputs": [
    {
     "data": {
      "text/plain": [
       "MultinomialNB()"
      ]
     },
     "execution_count": 22,
     "metadata": {},
     "output_type": "execute_result"
    }
   ],
   "source": [
    "classifier.fit(X_train, y_train)"
   ]
  },
  {
   "cell_type": "code",
   "execution_count": 23,
   "id": "37420782-9eb3-43be-914f-d5e18ee7f65b",
   "metadata": {},
   "outputs": [],
   "source": [
    "y_pred = classifier.predict(X_test)"
   ]
  },
  {
   "cell_type": "code",
   "execution_count": 24,
   "id": "03787fef-0e69-42e8-b109-1a8492259eb3",
   "metadata": {},
   "outputs": [],
   "source": [
    "accuracy = accuracy_score(y_test,y_pred)"
   ]
  },
  {
   "cell_type": "code",
   "execution_count": 25,
   "id": "d286871c-3ab3-48df-9ac4-660853595343",
   "metadata": {},
   "outputs": [
    {
     "data": {
      "text/plain": [
       "0.6832"
      ]
     },
     "execution_count": 25,
     "metadata": {},
     "output_type": "execute_result"
    }
   ],
   "source": [
    "accuracy"
   ]
  },
  {
   "cell_type": "code",
   "execution_count": 26,
   "id": "75da51a6-c56f-4df1-8a03-857da5b70f4f",
   "metadata": {},
   "outputs": [],
   "source": [
    "report = classification_report(y_test,y_pred)"
   ]
  },
  {
   "cell_type": "code",
   "execution_count": 27,
   "id": "e6522e04-05d0-4d75-8ed8-f8a18ce1ff0b",
   "metadata": {},
   "outputs": [
    {
     "name": "stdout",
     "output_type": "stream",
     "text": [
      "              precision    recall  f1-score   support\n",
      "\n",
      "           1       0.50      0.09      0.15        11\n",
      "           2       1.00      0.08      0.15        12\n",
      "           3       0.50      0.03      0.05        70\n",
      "           4       0.40      0.28      0.33       318\n",
      "           5       0.75      0.91      0.82       839\n",
      "\n",
      "    accuracy                           0.68      1250\n",
      "   macro avg       0.63      0.28      0.30      1250\n",
      "weighted avg       0.64      0.68      0.64      1250\n",
      "\n"
     ]
    }
   ],
   "source": [
    "print(report)"
   ]
  }
 ],
 "metadata": {
  "kernelspec": {
   "display_name": "Python 3",
   "language": "python",
   "name": "python3"
  },
  "language_info": {
   "codemirror_mode": {
    "name": "ipython",
    "version": 3
   },
   "file_extension": ".py",
   "mimetype": "text/x-python",
   "name": "python",
   "nbconvert_exporter": "python",
   "pygments_lexer": "ipython3",
   "version": "3.7.9"
  }
 },
 "nbformat": 4,
 "nbformat_minor": 5
}
